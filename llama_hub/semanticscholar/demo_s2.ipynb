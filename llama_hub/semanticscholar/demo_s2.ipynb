{
 "cells": [
  {
   "cell_type": "markdown",
   "metadata": {},
   "source": [
    "# Demo: Semantic Scholar Loader in llama-index"
   ]
  },
  {
   "cell_type": "markdown",
   "metadata": {},
   "source": [
    "### Some preliminaries -\n",
    "\n",
    "- `query_space` : broad area of research\n",
    "- `query_string` : a specific question to the documents in the query space\n",
    "\n",
    "\n",
    "To download the open access pdfs and extract text from them, simply mark the `full_text` flag as `True` -\n",
    "\n",
    "\n",
    "```python\n",
    "s2reader = SemanticScholarReader()\n",
    "documents = s2reader.load_data(query_space, total_papers, full_text=True)\n",
    "```"
   ]
  },
  {
   "cell_type": "code",
   "execution_count": 1,
   "metadata": {},
   "outputs": [],
   "source": [
    "from llama_hub.semanticscholar.base import SemanticScholarReader\n",
    "import os\n",
    "import openai\n",
    "from llama_index.llms import OpenAI\n",
    "from llama_index.query_engine import CitationQueryEngine\n",
    "from llama_index import (\n",
    "    VectorStoreIndex,\n",
    "    StorageContext,\n",
    "    load_index_from_storage,\n",
    "    ServiceContext,\n",
    ")\n",
    "from llama_index.response.notebook_utils import display_response\n",
    "\n",
    "# initialize the SemanticScholarReader\n",
    "s2reader = SemanticScholarReader()\n",
    "\n",
    "# initialize the service context\n",
    "openai.api_key = os.environ[\"OPENAI_API_KEY\"]\n",
    "service_context = ServiceContext.from_defaults(\n",
    "    llm=OpenAI(model=\"gpt-3.5-turbo\", temperature=0)\n",
    ")\n"
   ]
  },
  {
   "cell_type": "code",
   "execution_count": 5,
   "metadata": {},
   "outputs": [
    {
     "data": {
      "text/markdown": [
       "**`Final Response:`** Large language models have limitations in terms of their training cost and computational resources [1]. While they can be efficient once trained, generating content from a trained model can still consume significant resources [1]. Techniques like model distillation can help reduce the cost of these models [1]. Additionally, increasing the size of language models may not necessarily improve their performance on long-tail knowledge or rare instances [3]. Scaling up models alone may not be sufficient to achieve high accuracy on specific types of questions [3]. There is also a need to modify the training objective or increase the number of training epochs to encourage memorization and focus on salient facts [4]. It is important to be cautious in how we talk about large language models, avoiding anthropomorphism and recognizing their limitations [5]."
      ],
      "text/plain": [
       "<IPython.core.display.Markdown object>"
      ]
     },
     "metadata": {},
     "output_type": "display_data"
    },
    {
     "data": {
      "text/markdown": [
       "---"
      ],
      "text/plain": [
       "<IPython.core.display.Markdown object>"
      ]
     },
     "metadata": {},
     "output_type": "display_data"
    },
    {
     "data": {
      "text/markdown": [
       "**`Source Node 1/6`**"
      ],
      "text/plain": [
       "<IPython.core.display.Markdown object>"
      ]
     },
     "metadata": {},
     "output_type": "display_data"
    },
    {
     "data": {
      "text/markdown": [
       "**Node ID:** ce86c15c-97b2-462b-97a8-01d4f9b5cdca<br>**Similarity:** 0.8679221353278955<br>**Text:** ...<br>"
      ],
      "text/plain": [
       "<IPython.core.display.Markdown object>"
      ]
     },
     "metadata": {},
     "output_type": "display_data"
    },
    {
     "data": {
      "text/markdown": [
       "---"
      ],
      "text/plain": [
       "<IPython.core.display.Markdown object>"
      ]
     },
     "metadata": {},
     "output_type": "display_data"
    },
    {
     "data": {
      "text/markdown": [
       "**`Source Node 2/6`**"
      ],
      "text/plain": [
       "<IPython.core.display.Markdown object>"
      ]
     },
     "metadata": {},
     "output_type": "display_data"
    },
    {
     "data": {
      "text/markdown": [
       "**Node ID:** 928d36ca-bf21-47f1-820b-b57a7fa30354<br>**Similarity:** 0.8679221353278955<br>**Text:** ...<br>"
      ],
      "text/plain": [
       "<IPython.core.display.Markdown object>"
      ]
     },
     "metadata": {},
     "output_type": "display_data"
    },
    {
     "data": {
      "text/markdown": [
       "---"
      ],
      "text/plain": [
       "<IPython.core.display.Markdown object>"
      ]
     },
     "metadata": {},
     "output_type": "display_data"
    },
    {
     "data": {
      "text/markdown": [
       "**`Source Node 3/6`**"
      ],
      "text/plain": [
       "<IPython.core.display.Markdown object>"
      ]
     },
     "metadata": {},
     "output_type": "display_data"
    },
    {
     "data": {
      "text/markdown": [
       "**Node ID:** 6d0eba26-64a5-4b84-a71a-1bc412323761<br>**Similarity:** 0.864251829100195<br>**Text:** ...<br>"
      ],
      "text/plain": [
       "<IPython.core.display.Markdown object>"
      ]
     },
     "metadata": {},
     "output_type": "display_data"
    },
    {
     "data": {
      "text/markdown": [
       "---"
      ],
      "text/plain": [
       "<IPython.core.display.Markdown object>"
      ]
     },
     "metadata": {},
     "output_type": "display_data"
    },
    {
     "data": {
      "text/markdown": [
       "**`Source Node 4/6`**"
      ],
      "text/plain": [
       "<IPython.core.display.Markdown object>"
      ]
     },
     "metadata": {},
     "output_type": "display_data"
    },
    {
     "data": {
      "text/markdown": [
       "**Node ID:** 509f3675-6048-4a14-8ba2-874316078ebf<br>**Similarity:** 0.864251829100195<br>**Text:** ...<br>"
      ],
      "text/plain": [
       "<IPython.core.display.Markdown object>"
      ]
     },
     "metadata": {},
     "output_type": "display_data"
    },
    {
     "data": {
      "text/markdown": [
       "---"
      ],
      "text/plain": [
       "<IPython.core.display.Markdown object>"
      ]
     },
     "metadata": {},
     "output_type": "display_data"
    },
    {
     "data": {
      "text/markdown": [
       "**`Source Node 5/6`**"
      ],
      "text/plain": [
       "<IPython.core.display.Markdown object>"
      ]
     },
     "metadata": {},
     "output_type": "display_data"
    },
    {
     "data": {
      "text/markdown": [
       "**Node ID:** 8de0d9da-9729-486f-8490-434caf207934<br>**Similarity:** 0.8627260872607259<br>**Text:** ...<br>"
      ],
      "text/plain": [
       "<IPython.core.display.Markdown object>"
      ]
     },
     "metadata": {},
     "output_type": "display_data"
    },
    {
     "data": {
      "text/markdown": [
       "---"
      ],
      "text/plain": [
       "<IPython.core.display.Markdown object>"
      ]
     },
     "metadata": {},
     "output_type": "display_data"
    },
    {
     "data": {
      "text/markdown": [
       "**`Source Node 6/6`**"
      ],
      "text/plain": [
       "<IPython.core.display.Markdown object>"
      ]
     },
     "metadata": {},
     "output_type": "display_data"
    },
    {
     "data": {
      "text/markdown": [
       "**Node ID:** 45b8d27e-c739-4493-acec-9554ea1ed24c<br>**Similarity:** 0.8627260872607259<br>**Text:** ...<br>"
      ],
      "text/plain": [
       "<IPython.core.display.Markdown object>"
      ]
     },
     "metadata": {},
     "output_type": "display_data"
    }
   ],
   "source": [
    "query_space = \"large language models\"\n",
    "query_string = \"limitations of using large language models\"\n",
    "full_text = True\n",
    "# be careful with the total_papers when full_text = True\n",
    "# it can take a long time to download\n",
    "total_papers = 50\n",
    "\n",
    "persist_dir = (\n",
    "    \"./citation_\" + query_space + \"_\" + str(total_papers) + \"_\" + str(full_text)\n",
    ")\n",
    "\n",
    "if not os.path.exists(persist_dir):\n",
    "    # Load data from Semantic Scholar\n",
    "    documents = s2reader.load_data(query_space, total_papers, full_text=full_text)\n",
    "    index = VectorStoreIndex.from_documents(documents, service_context=service_context)\n",
    "    index.storage_context.persist(persist_dir=persist_dir)\n",
    "else:\n",
    "    index = load_index_from_storage(\n",
    "        StorageContext.from_defaults(persist_dir=persist_dir),\n",
    "        service_context=service_context,\n",
    "    )\n",
    "    \n",
    "# initialize the citation query engine\n",
    "query_engine = CitationQueryEngine.from_args(\n",
    "    index,\n",
    "    similarity_top_k=3,\n",
    "    citation_chunk_size=512,\n",
    ")\n",
    "\n",
    "# query the citation query engine\n",
    "response = query_engine.query(query_string)\n",
    "display_response(response, show_source=True, source_length=3)"
   ]
  },
  {
   "cell_type": "code",
   "execution_count": 9,
   "metadata": {},
   "outputs": [
    {
     "data": {
      "text/markdown": [
       "**`Final Response:`** The efficacy numbers of the COVID-19 vaccines are as follows:\n",
       "\n",
       "- NVX-CoV2373: 49% efficacy against the B.1.351 variant, increasing to 60% when excluding HIV-positive individuals [1].\n",
       "- Ad26.COV2-S: 72% efficacy against PCR-confirmed infection in the USA, reduced to 66% efficacy in Latin America and 57% efficacy in South Africa [1].\n",
       "- AZD1222: Did not demonstrate protection against mild to moderate B.1.351-induced COVID-19 [1].\n",
       "- BNT162b2: Elicited antibodies with neutralizing activity against B.1.1.7 and P.1 variants [1].\n",
       "- CoronaVac: 50% efficacy against symptomatic infection [1].\n",
       "- Sinopharm (BBIBP-CorV): 78% efficacy against COVID-19 and 79% efficacy against hospitalization [5].\n",
       "- Novavax (NVX-CoV2373): 89% efficacy against symptomatic COVID-19 and positive RT-PCR test result [5].\n",
       "- VECTOR (EpiVacCorona): No data available [5].\n",
       "\n",
       "Note: These efficacy numbers are based on the provided sources and may not represent the most up-to-date information."
      ],
      "text/plain": [
       "<IPython.core.display.Markdown object>"
      ]
     },
     "metadata": {},
     "output_type": "display_data"
    },
    {
     "data": {
      "text/markdown": [
       "---"
      ],
      "text/plain": [
       "<IPython.core.display.Markdown object>"
      ]
     },
     "metadata": {},
     "output_type": "display_data"
    },
    {
     "data": {
      "text/markdown": [
       "**`Source Node 1/6`**"
      ],
      "text/plain": [
       "<IPython.core.display.Markdown object>"
      ]
     },
     "metadata": {},
     "output_type": "display_data"
    },
    {
     "data": {
      "text/markdown": [
       "**Node ID:** b6663a8b-5679-4723-9cc9-925ce5b84c34<br>**Similarity:** 0.8624234672546093<br>**Text:** Source 1:\n",
       "NVX-CoV2373 \n",
       "showed an efficacy of 49% against the \n",
       "B.1.351 variant in the prevention o...<br>"
      ],
      "text/plain": [
       "<IPython.core.display.Markdown object>"
      ]
     },
     "metadata": {},
     "output_type": "display_data"
    },
    {
     "data": {
      "text/markdown": [
       "---"
      ],
      "text/plain": [
       "<IPython.core.display.Markdown object>"
      ]
     },
     "metadata": {},
     "output_type": "display_data"
    },
    {
     "data": {
      "text/markdown": [
       "**`Source Node 2/6`**"
      ],
      "text/plain": [
       "<IPython.core.display.Markdown object>"
      ]
     },
     "metadata": {},
     "output_type": "display_data"
    },
    {
     "data": {
      "text/markdown": [
       "**Node ID:** 67d4659d-b164-4841-9176-63e49f837b9c<br>**Similarity:** 0.8624234672546093<br>**Text:** Source 2:\n",
       "617.2) variant.A significant \n",
       "decrease in neutralizing antibody titre \n",
       "has been seen fo...<br>"
      ],
      "text/plain": [
       "<IPython.core.display.Markdown object>"
      ]
     },
     "metadata": {},
     "output_type": "display_data"
    },
    {
     "data": {
      "text/markdown": [
       "---"
      ],
      "text/plain": [
       "<IPython.core.display.Markdown object>"
      ]
     },
     "metadata": {},
     "output_type": "display_data"
    },
    {
     "data": {
      "text/markdown": [
       "**`Source Node 3/6`**"
      ],
      "text/plain": [
       "<IPython.core.display.Markdown object>"
      ]
     },
     "metadata": {},
     "output_type": "display_data"
    },
    {
     "data": {
      "text/markdown": [
       "**Node ID:** 98ff1d6f-1992-4674-b396-12f58acb5cd7<br>**Similarity:** 0.8616244247348551<br>**Text:** Source 3:\n",
       "The only valid way to compare vaccines directly is \n",
       "in head-to-head efficacy trials, wh...<br>"
      ],
      "text/plain": [
       "<IPython.core.display.Markdown object>"
      ]
     },
     "metadata": {},
     "output_type": "display_data"
    },
    {
     "data": {
      "text/markdown": [
       "---"
      ],
      "text/plain": [
       "<IPython.core.display.Markdown object>"
      ]
     },
     "metadata": {},
     "output_type": "display_data"
    },
    {
     "data": {
      "text/markdown": [
       "**`Source Node 4/6`**"
      ],
      "text/plain": [
       "<IPython.core.display.Markdown object>"
      ]
     },
     "metadata": {},
     "output_type": "display_data"
    },
    {
     "data": {
      "text/markdown": [
       "**Node ID:** 6752826d-3c31-48de-ab75-c625c06718c1<br>**Similarity:** 0.8616244247348551<br>**Text:** Source 4:\n",
       "population studied and prevalence \n",
       "of SARS-CoV-2 variants at the time of the \n",
       "trial, it...<br>"
      ],
      "text/plain": [
       "<IPython.core.display.Markdown object>"
      ]
     },
     "metadata": {},
     "output_type": "display_data"
    },
    {
     "data": {
      "text/markdown": [
       "---"
      ],
      "text/plain": [
       "<IPython.core.display.Markdown object>"
      ]
     },
     "metadata": {},
     "output_type": "display_data"
    },
    {
     "data": {
      "text/markdown": [
       "**`Source Node 5/6`**"
      ],
      "text/plain": [
       "<IPython.core.display.Markdown object>"
      ]
     },
     "metadata": {},
     "output_type": "display_data"
    },
    {
     "data": {
      "text/markdown": [
       "**Node ID:** 0283e2f1-1eb7-4d73-ba92-1724487b5aee<br>**Similarity:** 0.8593642969779912<br>**Text:** Source 5:\n",
       "Although differences in how the \n",
       "clinical trials were set up make comparison \n",
       "between v...<br>"
      ],
      "text/plain": [
       "<IPython.core.display.Markdown object>"
      ]
     },
     "metadata": {},
     "output_type": "display_data"
    },
    {
     "data": {
      "text/markdown": [
       "---"
      ],
      "text/plain": [
       "<IPython.core.display.Markdown object>"
      ]
     },
     "metadata": {},
     "output_type": "display_data"
    },
    {
     "data": {
      "text/markdown": [
       "**`Source Node 6/6`**"
      ],
      "text/plain": [
       "<IPython.core.display.Markdown object>"
      ]
     },
     "metadata": {},
     "output_type": "display_data"
    },
    {
     "data": {
      "text/markdown": [
       "**Node ID:** 57356c41-b2bf-429b-a842-bc9962a5f007<br>**Similarity:** 0.8593642969779912<br>**Text:** Source 6:\n",
       "laboratory \n",
       "confirmed COVID-19 \n",
       "within \n",
       "6 months after first dose≥18 years old 9 months...<br>"
      ],
      "text/plain": [
       "<IPython.core.display.Markdown object>"
      ]
     },
     "metadata": {},
     "output_type": "display_data"
    }
   ],
   "source": [
    "query_space = \"covid 19 vaccine\"\n",
    "query_string = \"List the efficacy numbers of the covid 19 vaccines\"\n",
    "full_text = True\n",
    "# be careful with the total_papers when full_text = True\n",
    "# it can take a long time to download\n",
    "total_papers = 50\n",
    "\n",
    "persist_dir = (\n",
    "    \"./citation_\" + query_space + \"_\" + str(total_papers) + \"_\" + str(full_text)\n",
    ")\n",
    "\n",
    "if not os.path.exists(persist_dir):\n",
    "    # Load data from Semantic Scholar\n",
    "    documents = s2reader.load_data(query_space, total_papers, full_text=full_text)\n",
    "    index = VectorStoreIndex.from_documents(documents, service_context=service_context)\n",
    "    index.storage_context.persist(persist_dir=persist_dir)\n",
    "else:\n",
    "    index = load_index_from_storage(\n",
    "        StorageContext.from_defaults(persist_dir=persist_dir),\n",
    "        service_context=service_context,\n",
    "    )\n",
    "    \n",
    "# initialize the citation query engine\n",
    "query_engine = CitationQueryEngine.from_args(\n",
    "    index,\n",
    "    similarity_top_k=3,\n",
    "    citation_chunk_size=512,\n",
    ")\n",
    "\n",
    "# query the citation query engine\n",
    "response = query_engine.query(query_string)\n",
    "display_response(response, show_source=True, source_length=100)"
   ]
  },
  {
   "cell_type": "code",
   "execution_count": null,
   "metadata": {},
   "outputs": [],
   "source": []
  }
 ],
 "metadata": {
  "kernelspec": {
   "display_name": "Python 3",
   "language": "python",
   "name": "python3"
  },
  "language_info": {
   "codemirror_mode": {
    "name": "ipython",
    "version": 3
   },
   "file_extension": ".py",
   "mimetype": "text/x-python",
   "name": "python",
   "nbconvert_exporter": "python",
   "pygments_lexer": "ipython3",
   "version": "3.11.4"
  },
  "orig_nbformat": 4
 },
 "nbformat": 4,
 "nbformat_minor": 2
}
